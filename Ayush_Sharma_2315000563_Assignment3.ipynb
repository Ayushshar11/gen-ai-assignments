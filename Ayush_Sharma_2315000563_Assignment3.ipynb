{
 "cells": [
  {
   "cell_type": "markdown",
   "id": "4986a42d",
   "metadata": {},
   "source": [
    "# LangChain RAG Pipeline\n",
    "This notebook demonstrates how to build a RAG pipeline using LangChain, FAISS, and Ollama."
   ]
  },
  {
   "cell_type": "code",
   "execution_count": 1,
   "id": "e8a95a48",
   "metadata": {},
   "outputs": [],
   "source": [
    "from langchain.document_loaders import PyPDFLoader\n",
    "from langchain.text_splitter import CharacterTextSplitter\n",
    "from langchain_huggingface import HuggingFaceEmbeddings\n",
    "from langchain.vectorstores import FAISS\n",
    "from langchain_community.llms import Ollama\n",
    "from langchain.chains import RetrievalQA, LLMChain\n",
    "from langchain.prompts import PromptTemplate"
   ]
  },
  {
   "cell_type": "code",
   "execution_count": 2,
   "id": "d60ef5a5",
   "metadata": {},
   "outputs": [
    {
     "name": "stdout",
     "output_type": "stream",
     "text": [
      "Files in current folder: ['hypothesis.pdf', 'langchain_rag_pipeline.ipynb']\n"
     ]
    }
   ],
   "source": [
    "import os\n",
    "print(\"Files in current folder:\", os.listdir())\n"
   ]
  },
  {
   "cell_type": "markdown",
   "id": "4a8094f7",
   "metadata": {},
   "source": [
    "### Load and Split the Document"
   ]
  },
  {
   "cell_type": "code",
   "execution_count": 3,
   "id": "a84c1efd",
   "metadata": {},
   "outputs": [],
   "source": [
    "loader = PyPDFLoader(\"hypothesis.pdf\")\n",
    "pages = loader.load()\n",
    "\n",
    "splitter = CharacterTextSplitter(chunk_size=500, chunk_overlap=50)\n",
    "chunks = splitter.split_documents(pages)"
   ]
  },
  {
   "cell_type": "markdown",
   "id": "e2b4851c",
   "metadata": {},
   "source": [
    "### Create Embeddings and Vector Store"
   ]
  },
  {
   "cell_type": "code",
   "execution_count": 4,
   "id": "3f271aa1",
   "metadata": {},
   "outputs": [
    {
     "name": "stderr",
     "output_type": "stream",
     "text": [
      "C:\\Users\\Asus\\AppData\\Local\\Packages\\PythonSoftwareFoundation.Python.3.10_qbz5n2kfra8p0\\LocalCache\\local-packages\\Python310\\site-packages\\torch\\nn\\modules\\module.py:1762: FutureWarning: `encoder_attention_mask` is deprecated and will be removed in version 4.55.0 for `BertSdpaSelfAttention.forward`.\n",
      "  return forward_call(*args, **kwargs)\n"
     ]
    }
   ],
   "source": [
    "embedding_model = HuggingFaceEmbeddings(model_name=\"all-MiniLM-L6-v2\")\n",
    "vectorstore = FAISS.from_documents(chunks, embedding_model)\n",
    "retriever = vectorstore.as_retriever()"
   ]
  },
  {
   "cell_type": "markdown",
   "id": "1c52da0b",
   "metadata": {},
   "source": [
    "### Load Ollama LLM and Build RetrievalQA Chain"
   ]
  },
  {
   "cell_type": "code",
   "execution_count": 5,
   "id": "52481730",
   "metadata": {},
   "outputs": [
    {
     "name": "stderr",
     "output_type": "stream",
     "text": [
      "C:\\Users\\Asus\\AppData\\Local\\Temp\\ipykernel_1436\\2835201837.py:1: LangChainDeprecationWarning: The class `Ollama` was deprecated in LangChain 0.3.1 and will be removed in 1.0.0. An updated version of the class exists in the :class:`~langchain-ollama package and should be used instead. To use it run `pip install -U :class:`~langchain-ollama` and import as `from :class:`~langchain_ollama import OllamaLLM``.\n",
      "  llm = Ollama(model=\"mistral\")\n"
     ]
    }
   ],
   "source": [
    "llm = Ollama(model=\"mistral\")\n",
    "rag_chain = RetrievalQA.from_chain_type(llm=llm, retriever=retriever, return_source_documents=True)"
   ]
  },
  {
   "cell_type": "markdown",
   "id": "6cb39d24",
   "metadata": {},
   "source": [
    "### Ask Questions and View Retrieved Chunks"
   ]
  },
  {
   "cell_type": "code",
   "execution_count": 12,
   "id": "58fe77ec",
   "metadata": {},
   "outputs": [
    {
     "name": "stderr",
     "output_type": "stream",
     "text": [
      "C:\\Users\\Asus\\AppData\\Local\\Packages\\PythonSoftwareFoundation.Python.3.10_qbz5n2kfra8p0\\LocalCache\\local-packages\\Python310\\site-packages\\torch\\nn\\modules\\module.py:1762: FutureWarning: `encoder_attention_mask` is deprecated and will be removed in version 4.55.0 for `BertSdpaSelfAttention.forward`.\n",
      "  return forward_call(*args, **kwargs)\n"
     ]
    },
    {
     "name": "stdout",
     "output_type": "stream",
     "text": [
      "\n",
      "---\n",
      "Question: What is a modifier and what purpose does it serve in a sentence?\n",
      "Answer:  In the context provided, a modifier is not directly mentioned. However, in general grammar, a modifier is a word, phrase, or clause that gives additional information about a noun or pronoun in a sentence. It helps to further describe, specify, or clarify the noun or pronoun it is modifying. For example, in the sentence \"The red, shiny car,\" \"red\" and \"shiny\" are modifiers that provide more details about the noun \"car\".\n",
      "\n",
      "Source Chunks:\n",
      "Population and Sample\n",
      "• Population: A population refers to the entire set of individuals, objects, or events of interest\n",
      "in a study. It is the complete group from which data could be collected.\n",
      "– Example: All students in a university, all manufactured products in a factory, or all\n",
      "voters in an elect ...\n",
      "\n",
      "1. Large Sample\n",
      "• Definition: A sample is considered large if the size ( n) is ≥ 30 (n ≥ 30).\n",
      "• Characteristics:\n",
      "– The Central Limit Theorem (CLT) applies, meaning the sampling distribution of the\n",
      "mean will approximate a normal distribution regardless of the population’s original\n",
      "distribution.\n",
      "– Var ...\n",
      "\n",
      "• Critical Region : The range of values where the null hypothesis is rejected. It is\n",
      "determined by the level of significance.\n",
      "• Acceptance Region: The range of values where the null hypothesis is not rejected.\n",
      "4. Type I and Type II Errors :\n",
      "• Type I Error (α): Rejecting the null hypothesis when it i ...\n",
      "\n",
      "Critical Values\n",
      "Critical values are the threshold values that define the boundary between the acceptance\n",
      "region and the rejection (critical) region in hypothesis testing. These values help determine\n",
      "whether to reject or fail to reject the null hypothesis ( H0).\n",
      "• Role in Hypothesis Testing:\n",
      "– The cr ...\n",
      "\n"
     ]
    },
    {
     "name": "stderr",
     "output_type": "stream",
     "text": [
      "C:\\Users\\Asus\\AppData\\Local\\Packages\\PythonSoftwareFoundation.Python.3.10_qbz5n2kfra8p0\\LocalCache\\local-packages\\Python310\\site-packages\\torch\\nn\\modules\\module.py:1762: FutureWarning: `encoder_attention_mask` is deprecated and will be removed in version 4.55.0 for `BertSdpaSelfAttention.forward`.\n",
      "  return forward_call(*args, **kwargs)\n"
     ]
    },
    {
     "name": "stdout",
     "output_type": "stream",
     "text": [
      "\n",
      "---\n",
      "Question: Give one example each of an adjective and an adverb used as a modifier.\n",
      "Answer:  An example of an adjective used as a modifier is \"quickly moving\" (moving is the modified verb, and quickly is the adjective modifying it).\n",
      "An example of an adverb used as a modifier is \"carefully written\" (written is the modified verb, and carefully is the adverb modifying it).\n",
      "\n",
      "Source Chunks:\n",
      "Population and Sample\n",
      "• Population: A population refers to the entire set of individuals, objects, or events of interest\n",
      "in a study. It is the complete group from which data could be collected.\n",
      "– Example: All students in a university, all manufactured products in a factory, or all\n",
      "voters in an elect ...\n",
      "\n",
      "• Critical Region : The range of values where the null hypothesis is rejected. It is\n",
      "determined by the level of significance.\n",
      "• Acceptance Region: The range of values where the null hypothesis is not rejected.\n",
      "4. Type I and Type II Errors :\n",
      "• Type I Error (α): Rejecting the null hypothesis when it i ...\n",
      "\n",
      "1. Large Sample\n",
      "• Definition: A sample is considered large if the size ( n) is ≥ 30 (n ≥ 30).\n",
      "• Characteristics:\n",
      "– The Central Limit Theorem (CLT) applies, meaning the sampling distribution of the\n",
      "mean will approximate a normal distribution regardless of the population’s original\n",
      "distribution.\n",
      "– Var ...\n",
      "\n",
      "Critical Values\n",
      "Critical values are the threshold values that define the boundary between the acceptance\n",
      "region and the rejection (critical) region in hypothesis testing. These values help determine\n",
      "whether to reject or fail to reject the null hypothesis ( H0).\n",
      "• Role in Hypothesis Testing:\n",
      "– The cr ...\n",
      "\n"
     ]
    },
    {
     "name": "stderr",
     "output_type": "stream",
     "text": [
      "C:\\Users\\Asus\\AppData\\Local\\Packages\\PythonSoftwareFoundation.Python.3.10_qbz5n2kfra8p0\\LocalCache\\local-packages\\Python310\\site-packages\\torch\\nn\\modules\\module.py:1762: FutureWarning: `encoder_attention_mask` is deprecated and will be removed in version 4.55.0 for `BertSdpaSelfAttention.forward`.\n",
      "  return forward_call(*args, **kwargs)\n"
     ]
    },
    {
     "name": "stdout",
     "output_type": "stream",
     "text": [
      "\n",
      "---\n",
      "Question: What is a misplaced modifier? Give an example from the pdf.\n",
      "Answer:  A misplaced modifier is a grammatical error in which a modifying phrase or clause is placed too far away from the word it is intended to modify, resulting in ambiguity or unintended meanings.\n",
      "\n",
      "An example from the provided context can be found in the following sentence: \"It allows for more detailed and manageable data collection.\" Here, the modifier \"It\" could potentially refer to either \"sampling\" (the intended meaning) or \"Why Sampling?\" (which is the preceding sentence). To clarify the intended meaning, one should rephrase it as \"Sampling allows for more detailed and manageable data collection,\" ensuring that the subject of the sentence is clearly defined.\n",
      "\n",
      "Source Chunks:\n",
      "Population and Sample\n",
      "• Population: A population refers to the entire set of individuals, objects, or events of interest\n",
      "in a study. It is the complete group from which data could be collected.\n",
      "– Example: All students in a university, all manufactured products in a factory, or all\n",
      "voters in an elect ...\n",
      "\n",
      "• Critical Region : The range of values where the null hypothesis is rejected. It is\n",
      "determined by the level of significance.\n",
      "• Acceptance Region: The range of values where the null hypothesis is not rejected.\n",
      "4. Type I and Type II Errors :\n",
      "• Type I Error (α): Rejecting the null hypothesis when it i ...\n",
      "\n",
      "Critical Values\n",
      "Critical values are the threshold values that define the boundary between the acceptance\n",
      "region and the rejection (critical) region in hypothesis testing. These values help determine\n",
      "whether to reject or fail to reject the null hypothesis ( H0).\n",
      "• Role in Hypothesis Testing:\n",
      "– The cr ...\n",
      "\n",
      "1. Large Sample\n",
      "• Definition: A sample is considered large if the size ( n) is ≥ 30 (n ≥ 30).\n",
      "• Characteristics:\n",
      "– The Central Limit Theorem (CLT) applies, meaning the sampling distribution of the\n",
      "mean will approximate a normal distribution regardless of the population’s original\n",
      "distribution.\n",
      "– Var ...\n",
      "\n"
     ]
    },
    {
     "name": "stderr",
     "output_type": "stream",
     "text": [
      "C:\\Users\\Asus\\AppData\\Local\\Packages\\PythonSoftwareFoundation.Python.3.10_qbz5n2kfra8p0\\LocalCache\\local-packages\\Python310\\site-packages\\torch\\nn\\modules\\module.py:1762: FutureWarning: `encoder_attention_mask` is deprecated and will be removed in version 4.55.0 for `BertSdpaSelfAttention.forward`.\n",
      "  return forward_call(*args, **kwargs)\n"
     ]
    },
    {
     "name": "stdout",
     "output_type": "stream",
     "text": [
      "\n",
      "---\n",
      "Question: How does a dangling modifier differ from a misplaced modifier?\n",
      "Answer:  A dangling modifier is a grammatical construction in which a modifying phrase appears to apply to the nearest noun, but the intended subject of the modifier is missing or unclear. For example, \"Running through the park, my car was stolen.\" In this sentence, the intended subject of the modifier \"running\" is not the car, but the implied subject should be \"I\".\n",
      "\n",
      "On the other hand, a misplaced modifier places the modifying phrase away from its intended position in the sentence, resulting in ambiguity or confusion about what the modifier is intended to modify. For example, \"Wrapping the gift, I put it under the tree.\" In this sentence, the intended subject of the modifier \"wrapping\" should be \"I\", but it appears as though the gift is doing the wrapping instead.\n",
      "\n",
      "In both cases, clarifying the intended subject or rephrasing the sentence can help avoid dangling and misplaced modifiers to improve clarity and accuracy in writing.\n",
      "\n",
      "Source Chunks:\n",
      "Population and Sample\n",
      "• Population: A population refers to the entire set of individuals, objects, or events of interest\n",
      "in a study. It is the complete group from which data could be collected.\n",
      "– Example: All students in a university, all manufactured products in a factory, or all\n",
      "voters in an elect ...\n",
      "\n",
      "• Critical Region : The range of values where the null hypothesis is rejected. It is\n",
      "determined by the level of significance.\n",
      "• Acceptance Region: The range of values where the null hypothesis is not rejected.\n",
      "4. Type I and Type II Errors :\n",
      "• Type I Error (α): Rejecting the null hypothesis when it i ...\n",
      "\n",
      "Critical Values\n",
      "Critical values are the threshold values that define the boundary between the acceptance\n",
      "region and the rejection (critical) region in hypothesis testing. These values help determine\n",
      "whether to reject or fail to reject the null hypothesis ( H0).\n",
      "• Role in Hypothesis Testing:\n",
      "– The cr ...\n",
      "\n",
      "1. Large Sample\n",
      "• Definition: A sample is considered large if the size ( n) is ≥ 30 (n ≥ 30).\n",
      "• Characteristics:\n",
      "– The Central Limit Theorem (CLT) applies, meaning the sampling distribution of the\n",
      "mean will approximate a normal distribution regardless of the population’s original\n",
      "distribution.\n",
      "– Var ...\n",
      "\n"
     ]
    },
    {
     "name": "stderr",
     "output_type": "stream",
     "text": [
      "C:\\Users\\Asus\\AppData\\Local\\Packages\\PythonSoftwareFoundation.Python.3.10_qbz5n2kfra8p0\\LocalCache\\local-packages\\Python310\\site-packages\\torch\\nn\\modules\\module.py:1762: FutureWarning: `encoder_attention_mask` is deprecated and will be removed in version 4.55.0 for `BertSdpaSelfAttention.forward`.\n",
      "  return forward_call(*args, **kwargs)\n"
     ]
    },
    {
     "name": "stdout",
     "output_type": "stream",
     "text": [
      "\n",
      "---\n",
      "Question: Rewrite this sentence to correct the dangling modifier: Swimming in the pond, my clothes gotdrenched.\n",
      "Answer:  While swimming in the pond, my clothes got drenched. (Corrected)\n",
      "\n",
      "Source Chunks:\n",
      "Population and Sample\n",
      "• Population: A population refers to the entire set of individuals, objects, or events of interest\n",
      "in a study. It is the complete group from which data could be collected.\n",
      "– Example: All students in a university, all manufactured products in a factory, or all\n",
      "voters in an elect ...\n",
      "\n",
      "• Critical Region : The range of values where the null hypothesis is rejected. It is\n",
      "determined by the level of significance.\n",
      "• Acceptance Region: The range of values where the null hypothesis is not rejected.\n",
      "4. Type I and Type II Errors :\n",
      "• Type I Error (α): Rejecting the null hypothesis when it i ...\n",
      "\n",
      "Critical Values\n",
      "Critical values are the threshold values that define the boundary between the acceptance\n",
      "region and the rejection (critical) region in hypothesis testing. These values help determine\n",
      "whether to reject or fail to reject the null hypothesis ( H0).\n",
      "• Role in Hypothesis Testing:\n",
      "– The cr ...\n",
      "\n",
      "1. Large Sample\n",
      "• Definition: A sample is considered large if the size ( n) is ≥ 30 (n ≥ 30).\n",
      "• Characteristics:\n",
      "– The Central Limit Theorem (CLT) applies, meaning the sampling distribution of the\n",
      "mean will approximate a normal distribution regardless of the population’s original\n",
      "distribution.\n",
      "– Var ...\n",
      "\n"
     ]
    }
   ],
   "source": [
    "questions = [\n",
    "    \"What is a modifier and what purpose does it serve in a sentence?\",\n",
    "    \"Give one example each of an adjective and an adverb used as a modifier.\",\n",
    "    \"What is a misplaced modifier? Give an example from the pdf.\",\n",
    "    \"How does a dangling modifier differ from a misplaced modifier?\",\n",
    "    \"Rewrite this sentence to correct the dangling modifier: Swimming in the pond, my clothes gotdrenched.\"\n",
    "]\n",
    "\n",
    "for q in questions:\n",
    "    result = rag_chain(q)\n",
    "    print(\"\\n---\")\n",
    "    print(f\"Question: {q}\")\n",
    "    print(f\"Answer: {result['result']}\")\n",
    "    print(\"\\nSource Chunks:\")\n",
    "    for doc in result['source_documents']:\n",
    "        print(doc.page_content[:300], \"...\\n\")"
   ]
  },
  {
   "cell_type": "markdown",
   "id": "0a19b9d1",
   "metadata": {},
   "source": [
    "### Compare with Raw LLM (No Retriever)"
   ]
  },
  {
   "cell_type": "code",
   "execution_count": 13,
   "id": "5a9db229",
   "metadata": {},
   "outputs": [
    {
     "name": "stdout",
     "output_type": "stream",
     "text": [
      "\n",
      "---\n",
      "Raw LLM Answer to: What is a modifier and what purpose does it serve in a sentence?\n",
      " In grammar, a modifier is a word, phrase, or clause that adds more information about another word, known as the head word or focus of the modification. Modifiers can help to clarify, specify, or provide additional details about the head word.\n",
      "\n",
      "There are several types of modifiers in English, such as adjectives, adverbs, relative clauses, and participle phrases. Adjectives modify nouns, making them more specific or descriptive (e.g., The red car), while adverbs typically modify verbs, adverbs, or other adverbs to indicate manner, time, place, or degree (e.g., She sings beautifully).\n",
      "\n",
      "Relative clauses function as adjectives and provide additional information about a noun within the sentence (e.g., The man who is standing over there looks angry.). Participial phrases are verb forms (present participle -ing and past participle -ed/-en) used to modify nouns, usually by describing their appearance or action (e.g., The broken vase lay on the floor).\n",
      "\n",
      "Modifiers play an essential role in making sentences more expressive, descriptive, and interesting, helping readers better understand the intended meaning of the sentence. They provide additional context and detail, allowing writers to convey complex ideas in a clear and concise manner.\n",
      "\n",
      "---\n",
      "Raw LLM Answer to: Give one example each of an adjective and an adverb used as a modifier.\n",
      " An example of an adjective used as a modifier is \"quickly\" in the sentence, \"The quickly moving car zoomed past.\" Here, \"quickly\" modifies the noun \"car\" by describing its speed.\n",
      "\n",
      "An example of an adverb used as a modifier is \"happily\" in the sentence, \"She sang happily ever after.\" In this case, \"happily\" modifies the verb \"sung,\" indicating the mood or emotion with which she was singing.\n",
      "\n",
      "---\n",
      "Raw LLM Answer to: What is a misplaced modifier? Give an example from the pdf.\n",
      " A misplaced modifier is a grammatical error that occurs when a modifier (a word, phrase, or clause that provides additional information about another word or group of words) is placed too far away from the word it is intended to modify, leading to ambiguity or unclear meaning in a sentence.\n",
      "\n",
      "Here's an example from the PDF:\n",
      "\n",
      "Incorrect: After eating the sandwich, I couldn't move my arms.\n",
      "Correct: I couldn't move my arms after eating the sandwich.\n",
      "\n",
      "In this example, \"after eating\" is a modifier that originally modifies \"I,\" suggesting that the inability to move the arms was caused by eating the sandwich (which doesn't make sense). By placing it after \"sandwich,\" we have a clearer sentence that indicates the action of eating caused the inability to move the arms.\n",
      "\n",
      "---\n",
      "Raw LLM Answer to: How does a dangling modifier differ from a misplaced modifier?\n",
      " A dangling modifier and a misplaced modifier are both grammatical errors that can occur in English writing. However, they differ in their structure and impact on sentence meaning.\n",
      "\n",
      "1. Dangling Modifier: This occurs when a modifying phrase is placed at the beginning of a sentence or clause and does not clearly refer to any of the subsequent nouns or pronouns. The modifier seems to \"dangle\" without a clear subject to modify. Here's an example:\n",
      "   - Dangling: Hanging from the tree, my coat was stolen. (In this sentence, it is unclear whose coat is hanging from the tree.)\n",
      "\n",
      "2. Misplaced Modifier: This happens when a modifying phrase or clause is placed too far away from the word it should modify, causing confusion about the intended meaning. Here's an example:\n",
      "   - Misplaced: The woman, tired after her long run, caught the bus. (In this sentence, it is unclear whether the woman was tired before starting to run or after finishing.)\n",
      "\n",
      "Corrected examples for both errors are:\n",
      "- Correct for a dangling modifier: My coat, which was hanging from the tree, was stolen.\n",
      "- Correct for a misplaced modifier: Tired after her long run, the woman caught the bus.\n",
      "\n",
      "---\n",
      "Raw LLM Answer to: Rewrite this sentence to correct the dangling modifier: Swimming in the pond, my clothes gotdrenched.\n",
      " The correct version of the sentence would be: \"While swimming in the pond, I got my clothes damp.\" This revised sentence makes it clear that the action of getting clothes damp (not the clothes themselves) is related to the activity of swimming.\n"
     ]
    }
   ],
   "source": [
    "prompt = PromptTemplate.from_template(\"Answer the following:\\n{question}\")\n",
    "llm_chain = LLMChain(llm=llm, prompt=prompt)\n",
    "\n",
    "for q in questions:\n",
    "    print(\"\\n---\")\n",
    "    print(f\"Raw LLM Answer to: {q}\")\n",
    "    print(llm_chain.run(q))"
   ]
  }
 ],
 "metadata": {
  "kernelspec": {
   "display_name": "Python 3",
   "language": "python",
   "name": "python3"
  },
  "language_info": {
   "codemirror_mode": {
    "name": "ipython",
    "version": 3
   },
   "file_extension": ".py",
   "mimetype": "text/x-python",
   "name": "python",
   "nbconvert_exporter": "python",
   "pygments_lexer": "ipython3",
   "version": "3.10.11"
  }
 },
 "nbformat": 4,
 "nbformat_minor": 5
}
